{
 "cells": [
  {
   "cell_type": "code",
   "execution_count": 1,
   "id": "choice-hospital",
   "metadata": {},
   "outputs": [],
   "source": [
    "# importing the module \n",
    "import cv2 \n",
    "  \n",
    "# reading the vedio \n",
    "source = cv2.VideoCapture(0) \n",
    "  \n",
    "# running the loop \n",
    "while True: \n",
    "  \n",
    "    # extracting the frames \n",
    "    ret, img = source.read() \n",
    "      \n",
    "    # converting to gray-scale \n",
    "    gray = cv2.cvtColor(img, cv2.COLOR_BGR2GRAY) \n",
    "  \n",
    "    # displaying the video \n",
    "    cv2.imshow(\"Live\", gray) \n",
    "  \n",
    "    # exiting the loop \n",
    "    key = cv2.waitKey(1) \n",
    "    if key == ord(\"q\"): \n",
    "        break\n",
    "      \n",
    "# closing the window \n",
    "cv2.destroyAllWindows() \n",
    "source.release()"
   ]
  },
  {
   "cell_type": "code",
   "execution_count": null,
   "id": "classical-chart",
   "metadata": {},
   "outputs": [],
   "source": []
  }
 ],
 "metadata": {
  "kernelspec": {
   "display_name": "Python 3",
   "language": "python",
   "name": "python3"
  },
  "language_info": {
   "codemirror_mode": {
    "name": "ipython",
    "version": 3
   },
   "file_extension": ".py",
   "mimetype": "text/x-python",
   "name": "python",
   "nbconvert_exporter": "python",
   "pygments_lexer": "ipython3",
   "version": "3.7.3"
  }
 },
 "nbformat": 4,
 "nbformat_minor": 5
}
